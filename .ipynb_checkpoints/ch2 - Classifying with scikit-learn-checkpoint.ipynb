{
 "cells": [
  {
   "cell_type": "markdown",
   "metadata": {},
   "source": [
    "# get started classifying stuff with scikit-learn\n",
    "\n",
    "we'll import some stuff, and then use cross-validation to test it.\n",
    "\n",
    "First, we'll load up some data, then we'll set up a classifier."
   ]
  },
  {
   "cell_type": "code",
   "execution_count": 5,
   "metadata": {
    "collapsed": false
   },
   "outputs": [],
   "source": [
    "import numpy as np\n",
    "def load_dataset(path, dataset_name):\n",
    "    '''\n",
    "    data,labels = load_dataset(dataset_name)\n",
    "\n",
    "    Load a given dataset\n",
    "\n",
    "    Returns\n",
    "    -------\n",
    "    data : numpy ndarray\n",
    "    labels : list of str\n",
    "    '''\n",
    "    data = []\n",
    "    labels = []\n",
    "    with open('{}/{}.tsv'.format(path, dataset_name)) as ifile:\n",
    "        for line in ifile:\n",
    "            tokens = line.strip().split('\\t')\n",
    "            data.append([float(tk) for tk in tokens[:-1]])\n",
    "            labels.append(tokens[-1])\n",
    "    data = np.array(data)\n",
    "    labels = np.array(labels)\n",
    "    return data, labels\n",
    "\n",
    "features, labels = load_dataset(\"book/ch02/data\", \"seeds\")"
   ]
  },
  {
   "cell_type": "code",
   "execution_count": 6,
   "metadata": {
    "collapsed": true
   },
   "outputs": [],
   "source": [
    "from sklearn.neighbors import KNeighborsClassifier\n",
    "classifier = KNeighborsClassifier(n_neighbors=1)  # default is 5"
   ]
  },
  {
   "cell_type": "markdown",
   "metadata": {},
   "source": [
    "now we'll do the cross-validation via scikit learn's tools"
   ]
  },
  {
   "cell_type": "code",
   "execution_count": 7,
   "metadata": {
    "collapsed": false
   },
   "outputs": [
    {
     "name": "stdout",
     "output_type": "stream",
     "text": [
      "Mean accuracy: 91.4%\n"
     ]
    }
   ],
   "source": [
    "from sklearn.cross_validation import KFold\n",
    "\n",
    "kf = KFold(len(features), n_folds=5, shuffle=True)\n",
    "means = []  # list of mean accuracies, one per fold\n",
    "for training, testing in kf:\n",
    "    \n",
    "    classifier.fit(features[training], labels[training])\n",
    "    prediction = classifier.predict(features[testing])\n",
    "    \n",
    "    curmean = np.mean(prediction == labels[testing])\n",
    "    means.append(curmean)\n",
    "    \n",
    "print(\"Mean accuracy: {:.1%}\".format(np.mean(means)))\n"
   ]
  }
 ],
 "metadata": {
  "kernelspec": {
   "display_name": "Python 3",
   "language": "python",
   "name": "python3"
  },
  "language_info": {
   "codemirror_mode": {
    "name": "ipython",
    "version": 3
   },
   "file_extension": ".py",
   "mimetype": "text/x-python",
   "name": "python",
   "nbconvert_exporter": "python",
   "pygments_lexer": "ipython3",
   "version": "3.4.3"
  }
 },
 "nbformat": 4,
 "nbformat_minor": 0
}
