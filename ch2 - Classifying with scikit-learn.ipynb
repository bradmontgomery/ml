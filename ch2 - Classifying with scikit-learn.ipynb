{
 "cells": [
  {
   "cell_type": "markdown",
   "metadata": {},
   "source": [
    "# get started classifying stuff with scikit-learn\n",
    "\n",
    "we'll import some stuff, and then use cross-validation to test it.\n",
    "\n",
    "First, we'll load up some data, then we'll set up a classifier."
   ]
  },
  {
   "cell_type": "code",
   "execution_count": 26,
   "metadata": {
    "collapsed": false
   },
   "outputs": [],
   "source": [
    "%matplotlib inline\n",
    "import matplotlib.pyplot as plt\n",
    "import numpy as np\n",
    "\n",
    "# copy/pasted function to load the book's data \n",
    "def load_dataset(path, dataset_name):\n",
    "    '''\n",
    "    data,labels = load_dataset(dataset_name)\n",
    "\n",
    "    Load a given dataset\n",
    "\n",
    "    Returns\n",
    "    -------\n",
    "    data : numpy ndarray\n",
    "    labels : list of str\n",
    "    '''\n",
    "    data = []\n",
    "    labels = []\n",
    "    with open('{}/{}.tsv'.format(path, dataset_name)) as ifile:\n",
    "        for line in ifile:\n",
    "            tokens = line.strip().split('\\t')\n",
    "            data.append([float(tk) for tk in tokens[:-1]])\n",
    "            labels.append(tokens[-1])\n",
    "    data = np.array(data)\n",
    "    labels = np.array(labels)\n",
    "    return data, labels\n",
    "\n",
    "# load the data\n",
    "features, labels = load_dataset(\"book/ch02/data\", \"seeds\")"
   ]
  },
  {
   "cell_type": "code",
   "execution_count": 27,
   "metadata": {
    "collapsed": true
   },
   "outputs": [],
   "source": [
    "from sklearn.neighbors import KNeighborsClassifier\n",
    "from sklearn.cross_validation import cross_val_score\n",
    "#classifier = KNeighborsClassifier(n_neighbors=1)  # default is 5\n",
    "\n",
    "# normalize data first, using a pipeline\n",
    "from sklearn.pipeline import Pipeline\n",
    "from sklearn.preprocessing import StandardScaler\n",
    "\n"
   ]
  },
  {
   "cell_type": "code",
   "execution_count": 34,
   "metadata": {
    "collapsed": false
   },
   "outputs": [
    {
     "name": "stdout",
     "output_type": "stream",
     "text": [
      "Mean accuracy: 84.7%\n"
     ]
    },
    {
     "data": {
      "text/plain": [
       "<matplotlib.text.Text at 0x11003a630>"
      ]
     },
     "execution_count": 34,
     "metadata": {},
     "output_type": "execute_result"
    },
    {
     "data": {
      "image/png": "[encoded data removed]",
      "text/plain": [
       "<matplotlib.figure.Figure at 0x10ffe0550>"
      ]
     },
     "metadata": {},
     "output_type": "display_data"
    }
   ],
   "source": [
    "classifier = KNeighborsClassifier()\n",
    "pipeline = Pipeline([('norm', StandardScaler()), ('knn', classifier)])\n",
    "\n",
    "# accuracies for various values of k\n",
    "ks = np.arange(1,138)\n",
    "accuracies = []\n",
    "\n",
    "for k in ks:\n",
    "    classifier.set_params(n_neighbors=k)\n",
    "    crossed = cross_val_score(classifier, features, labels)\n",
    "    accuracies.append(crossed.mean())\n",
    "accuracies = np.array(accuracies)\n",
    "\n",
    "mean_accuracy = np.mean(accuracies)    \n",
    "print(\"Mean accuracy: {:.1%}\".format(mean_accuracy))\n",
    "\n",
    "# plot this info\n",
    "plt.plot(ks, accuracies * 100)\n",
    "plt.xlabel(\"Value fo k (nr of neighbors)\")\n",
    "plt.ylabel(\"Accuracy (%)\")"
   ]
  },
  {
   "cell_type": "code",
   "execution_count": 44,
   "metadata": {
    "collapsed": false
   },
   "outputs": [
    {
     "name": "stdout",
     "output_type": "stream",
     "text": [
      "Means: [0.9285714285714286, 0.95238095238095233, 0.9285714285714286, 0.9285714285714286, 0.95238095238095233]\n",
      "Mean accuracy: 93.8%\n"
     ]
    },
    {
     "data": {
      "text/plain": [
       "[<matplotlib.lines.Line2D at 0x1106b9ef0>]"
      ]
     },
     "execution_count": 44,
     "metadata": {},
     "output_type": "execute_result"
    },
    {
     "data": {
      "image/png": "[encoded data removed]",
      "text/plain": [
       "<matplotlib.figure.Figure at 0x1100c2c50>"
      ]
     },
     "metadata": {},
     "output_type": "display_data"
    }
   ],
   "source": [
    "# now we'll do the cross-validation via scikit learn's tools\n",
    "from sklearn.cross_validation import KFold\n",
    "\n",
    "classifier = KNeighborsClassifier(n_neighbors=1)\n",
    "classifier = Pipeline([('norm', StandardScaler()), ('knn', classifier)])\n",
    "\n",
    "kf = KFold(len(features), n_folds=5, shuffle=True)\n",
    "means = []  # list of mean accuracies, one per fold\n",
    "for training, testing in kf:\n",
    "    \n",
    "    classifier.fit(features[training], labels[training])\n",
    "    prediction = classifier.predict(features[testing])\n",
    "    \n",
    "    curmean = np.mean(prediction == labels[testing])\n",
    "    means.append(curmean)\n",
    "\n",
    "mean_accuracy = np.mean(means) \n",
    "print(\"Means: {}\".format(means))\n",
    "print(\"Mean accuracy: {:.1%}\".format(mean_accuracy))\n",
    "plt.plot([m * 100 for m in means])\n"
   ]
  },
  {
   "cell_type": "code",
   "execution_count": 45,
   "metadata": {
    "collapsed": false
   },
   "outputs": [
    {
     "name": "stdout",
     "output_type": "stream",
     "text": [
      "Result with prescaling: [ 0.95833333  0.92753623  0.79710145]\n"
     ]
    }
   ],
   "source": [
    "# simpler approach... \n",
    "classifier = Pipeline([('norm', StandardScaler()), ('knn', classifier)])\n",
    "crossed = cross_val_score(classifier, features, labels)\n",
    "print('Result with prescaling: {}'.format(crossed))"
   ]
  },
  {
   "cell_type": "code",
   "execution_count": 47,
   "metadata": {
    "collapsed": false
   },
   "outputs": [
    {
     "name": "stdout",
     "output_type": "stream",
     "text": [
      "Confusion matrix: [rows represent true outcome, columns predicted outcome]\n",
      "[[67  0  3]\n",
      " [ 0 66  4]\n",
      " [ 5  1 64]]\n",
      "Accuracy: 93.8%\n"
     ]
    }
   ],
   "source": [
    "from sklearn.metrics import confusion_matrix\n",
    "names = list(set(labels))\n",
    "labels = np.array([names.index(ell) for ell in labels])\n",
    "preds = labels.copy()\n",
    "preds[:] = -1\n",
    "for train, test in kf:\n",
    "    classifier.fit(features[train], labels[train])\n",
    "    preds[test] = classifier.predict(features[test])\n",
    "\n",
    "cmat = confusion_matrix(labels, preds)\n",
    "print('Confusion matrix: [rows represent true outcome, columns predicted outcome]')\n",
    "print(cmat)\n",
    "\n",
    "acc = cmat.trace() / cmat.sum()\n",
    "print('Accuracy: {0:.1%}'.format(acc))"
   ]
  }
 ],
 "metadata": {
  "kernelspec": {
   "display_name": "Python 3",
   "language": "python",
   "name": "python3"
  },
  "language_info": {
   "codemirror_mode": {
    "name": "ipython",
    "version": 3
   },
   "file_extension": ".py",
   "mimetype": "text/x-python",
   "name": "python",
   "nbconvert_exporter": "python",
   "pygments_lexer": "ipython3",
   "version": "3.4.3"
  }
 },
 "nbformat": 4,
 "nbformat_minor": 0
}
